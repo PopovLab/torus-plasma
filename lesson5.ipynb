{
 "cells": [
  {
   "attachments": {},
   "cell_type": "markdown",
   "metadata": {},
   "source": [
    "#### Интерактивные графики matplotlib"
   ]
  },
  {
   "cell_type": "code",
   "execution_count": null,
   "metadata": {},
   "outputs": [],
   "source": [
    "import numpy as np\n",
    "import pandas as pd\n",
    "\n",
    "lcms = pd.read_csv(\"lcms.dat\", delim_whitespace=True)\n",
    "traj = pd.read_csv(\"0.1800000.dat\", delim_whitespace=True)\n",
    "\n",
    "n_traj = np.unique(traj['N_traj'])\n"
   ]
  },
  {
   "attachments": {},
   "cell_type": "markdown",
   "metadata": {},
   "source": [
    "что бы заработал %matplotlib widget\n",
    "нужно добавить модуль ipympl"
   ]
  },
  {
   "cell_type": "code",
   "execution_count": null,
   "metadata": {},
   "outputs": [],
   "source": [
    "%matplotlib widget\n",
    "\n",
    "from matplotlib import pyplot as plt\n",
    "\n",
    "plt.plot(lcms['R(m)'], lcms['Z(m)'])\n",
    "plt.axis('equal')\n",
    "\n",
    "for nt in n_traj:\n",
    "    ray = traj[traj['N_traj'] == nt]\n",
    "    plt.plot(ray['R'], ray['Z'], alpha=0.5, linewidth=1)\n",
    "\n",
    "plt.show()"
   ]
  }
 ],
 "metadata": {
  "kernelspec": {
   "display_name": ".venv",
   "language": "python",
   "name": "python3"
  },
  "language_info": {
   "codemirror_mode": {
    "name": "ipython",
    "version": 3
   },
   "file_extension": ".py",
   "mimetype": "text/x-python",
   "name": "python",
   "nbconvert_exporter": "python",
   "pygments_lexer": "ipython3",
   "version": "3.11.2"
  },
  "orig_nbformat": 4
 },
 "nbformat": 4,
 "nbformat_minor": 2
}
