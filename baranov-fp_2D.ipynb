{
 "cells": [
  {
   "attachments": {},
   "cell_type": "markdown",
   "metadata": {},
   "source": [
    "#### Интерактивные графики matplotlib"
   ]
  },
  {
   "cell_type": "code",
   "execution_count": null,
   "metadata": {},
   "outputs": [],
   "source": [
    "f = open('distr.dat')\n",
    "n1 = int(f.readline())\n",
    "n2 = int(f.readline())\n",
    "n3 = int(f.readline())\n",
    "print(n1,n2,n3)\n",
    "lines = f.readlines()\n",
    "data = []\n",
    "for li in lines:\n",
    "    z = [float(v) for v in li.split()]\n",
    "    data += z\n",
    "print(len(data))\n",
    "print(data[0:5])"
   ]
  },
  {
   "cell_type": "code",
   "execution_count": null,
   "metadata": {},
   "outputs": [],
   "source": [
    "import numpy as np\n",
    "xp = data[0:n1]\n",
    "csn = data[n1:n1+n2-2]\n",
    "csn[n2-3] = 1\n",
    "th = np.arccos(csn)\n",
    "df = np.array(data[n1+n2-2:n1+n2-2 + n1*(n2-2)])\n",
    "print(df.shape)\n",
    "print(n1*(n2-2))\n",
    "df = np.log(np.resize(df,(n2-2,n1)))"
   ]
  },
  {
   "cell_type": "code",
   "execution_count": null,
   "metadata": {},
   "outputs": [],
   "source": [
    "x_max = max(xp)\n",
    "x_max"
   ]
  },
  {
   "cell_type": "code",
   "execution_count": null,
   "metadata": {},
   "outputs": [],
   "source": [
    "df_min, df_max = df.min(), df.max()\n",
    "df_min, df_max"
   ]
  },
  {
   "cell_type": "code",
   "execution_count": null,
   "metadata": {},
   "outputs": [],
   "source": [
    "a = np.array([0,1,2])\n",
    "b = np.array([0.1,0.3])\n",
    "ag, bg = np.meshgrid(a, b)\n",
    "ag, bg"
   ]
  },
  {
   "cell_type": "code",
   "execution_count": null,
   "metadata": {},
   "outputs": [],
   "source": [
    "from scipy.interpolate import RegularGridInterpolator\n",
    "interp_df = RegularGridInterpolator((th, xp), df, bounds_error=False, fill_value=None)"
   ]
  },
  {
   "cell_type": "code",
   "execution_count": null,
   "metadata": {},
   "outputs": [],
   "source": [
    "def cart2polNP(xy):\n",
    "    x, y = xy\n",
    "    rho = np.sqrt(x**2 + y**2)\n",
    "    phi = np.arctan2(y, x)\n",
    "    return(phi, rho)\n",
    "e_max = x_max*x_max\n",
    "ex = np.linspace(-e_max, e_max, 1200)\n",
    "ey = np.linspace( 0, e_max, 600)\n",
    "x = np.sqrt(np.abs(ex))*np.sign(ex)\n",
    "y = np.sqrt(np.abs(ey))\n",
    "#x = np.linspace(-x_max, x_max, 1200)\n",
    "#y = np.linspace(0, x_max, 600)\n",
    "xg, yg= np.meshgrid(x, y)\n",
    "idf = interp_df(cart2polNP((xg, yg)))"
   ]
  },
  {
   "cell_type": "code",
   "execution_count": null,
   "metadata": {},
   "outputs": [],
   "source": [
    "import plotly.graph_objects as go\n",
    "\n",
    "fig = go.Figure(data =\n",
    "    go.Contour(\n",
    "        z=idf, x= ex, y= ey,\n",
    "        contours=dict(\n",
    "            start= df_min/2, \n",
    "            end= df_max,\n",
    "            size= (df_max-df_min/2)/20\n",
    "        ),\n",
    "    ))\n",
    "fig.update_layout( \n",
    "      autosize=False,\n",
    "      width=800,\n",
    "      height=600,\n",
    ")\n",
    "fig.show()"
   ]
  },
  {
   "cell_type": "code",
   "execution_count": null,
   "metadata": {},
   "outputs": [],
   "source": []
  },
  {
   "cell_type": "code",
   "execution_count": null,
   "metadata": {},
   "outputs": [],
   "source": [
    "\n",
    "R, P = np.meshgrid(xp, th)\n",
    "X, Y = R*np.cos(P), R*np.sin(P)"
   ]
  },
  {
   "cell_type": "code",
   "execution_count": null,
   "metadata": {},
   "outputs": [],
   "source": [
    "import plotly.graph_objects as go\n",
    "from plotly.subplots import make_subplots\n",
    "\n",
    "\n",
    "fig = make_subplots(rows=1, cols=2,\n",
    "                    specs=[[{'is_3d': True}, {'is_3d': True}]],\n",
    "                    subplot_titles=['Bp', 'Sin B'],\n",
    "                    )\n",
    "\n",
    "scene1=dict(aspectratio=dict(x=1, y=2, z=0.5),\n",
    "                camera_eye=dict(x=-1.57, y=1.36, z=0.58))\n",
    "\n",
    "fig.add_trace(go.Surface(x=X, y=Y, z=df, colorbar_x=-0.07), 1, 1)\n",
    "#fig.add_trace(go.Surface(x=X, y=Y, z=Si), 1, 2)\n",
    "fig.update_scenes( \n",
    "                aspectratio=dict(x=1, y=1, z=0.6),\n",
    "                camera_eye=dict(x=-2.57, y=1.36, z=0.58), row=1, col=1)\n",
    "\n",
    "fig.update_scenes( \n",
    "                aspectratio=dict(x=1, y=1, z=0.4),\n",
    "                camera_eye=dict(x=-2.57, y=1.36, z=0.58), row=1, col=2)\n",
    "fig.update_layout( title_text=\"Tor\",\n",
    "      autosize=False,\n",
    "      width=1100,\n",
    "      height=600,\n",
    "  \n",
    ")\n",
    "fig.show()\n"
   ]
  }
 ],
 "metadata": {
  "kernelspec": {
   "display_name": ".venv",
   "language": "python",
   "name": "python3"
  },
  "language_info": {
   "codemirror_mode": {
    "name": "ipython",
    "version": 3
   },
   "file_extension": ".py",
   "mimetype": "text/x-python",
   "name": "python",
   "nbconvert_exporter": "python",
   "pygments_lexer": "ipython3",
   "version": "3.11.2"
  },
  "orig_nbformat": 4
 },
 "nbformat": 4,
 "nbformat_minor": 2
}
