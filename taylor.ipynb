{
 "cells": [
  {
   "cell_type": "code",
   "execution_count": null,
   "id": "2d490788",
   "metadata": {},
   "outputs": [],
   "source": [
    "import numpy as np\n",
    "def p1(n):\n",
    "    return np.polynomial.polynomial.Polynomial([0]+[(-1)**(n-i+1)/(i+1) for i in range(0,n)])\n",
    "print(p1(5))"
   ]
  },
  {
   "cell_type": "code",
   "execution_count": null,
   "id": "75564049",
   "metadata": {},
   "outputs": [],
   "source": [
    "((-1)**i*x**(n-i)/(n-i) for i in range(0,n))"
   ]
  },
  {
   "cell_type": "code",
   "execution_count": null,
   "id": "0286f521",
   "metadata": {},
   "outputs": [],
   "source": [
    "def fn0_sum(x,n):\n",
    "    return sum(((-1)**i*x**(n-i)/(n-i) for i in range(0,n)))\n",
    "    #return np.sum(np.fromiter(((-1)**i*x**(n-i)/(n-i) for i in range(0,n)), float))\n",
    "print( fn0_sum(0.5,5))"
   ]
  },
  {
   "cell_type": "code",
   "execution_count": null,
   "id": "e93c7481",
   "metadata": {},
   "outputs": [],
   "source": [
    "def fn0(x,n):\n",
    "    res = 0.\n",
    "    for i in range(0,n):\n",
    "        res= res + (-1)**i*x**(n-i)/(n-i)\n",
    "    return res\n",
    "\n",
    "print(p1(5)(0.4), fn0(0.4,5), fn0_sum(0.4,5))"
   ]
  },
  {
   "cell_type": "code",
   "execution_count": null,
   "id": "ecb59d02",
   "metadata": {},
   "outputs": [],
   "source": [
    "N = 500000\n",
    "fp1 = p1(10)\n",
    "for i in range(1,N):\n",
    "    y = fp1(float(i)/N)"
   ]
  },
  {
   "cell_type": "code",
   "execution_count": null,
   "id": "a9e45b98",
   "metadata": {},
   "outputs": [],
   "source": [
    "import timeit\n",
    "N = 1500000\n",
    "fn_p5 = p1(5)\n",
    "print ('fn_p5:', timeit.timeit(lambda :fn_p5(0.5), number=N))\n",
    "print ('fn0:', timeit.timeit(lambda :fn0(0.5,5), number=N))\n",
    "print ('fn0_sum:', timeit.timeit(lambda :fn0_sum(0.5,5) , number=N))"
   ]
  },
  {
   "cell_type": "code",
   "execution_count": null,
   "id": "3a1c69f2",
   "metadata": {},
   "outputs": [],
   "source": [
    "N = 500000\n",
    "for i in range(1,N):\n",
    "    y = fn0(float(i)/N,10)"
   ]
  },
  {
   "cell_type": "code",
   "execution_count": null,
   "id": "00ef7ae3",
   "metadata": {},
   "outputs": [],
   "source": [
    "import numpy as np\n",
    "\n",
    "def fn1(x,n):\n",
    "    res = 0.\n",
    "    for i in range(0,n):\n",
    "        res = res + (-1)**i*x**(n-i)/(n-i)\n",
    "    res = res + (-1)**n*np.log(abs(1.+x))\n",
    "    return res/(1+x)/x**(n+1)\n",
    "\n",
    "vfn1 = np.vectorize(fn1)\n",
    "\n",
    "def fn2(x,n):\n",
    "    res = 0.\n",
    "    for i in range(0,n):\n",
    "        res = res +(-1)**(n+i+2)*x**(+i)/(n+1+i)\n",
    "    return res*(-1)**n/(1+x)\n",
    "\n",
    "vfn2 = np.vectorize(fn2)\n",
    "\n",
    "def fn(x,n):\n",
    "    eps = 0.05\n",
    "    #return np.piecewise(x, [x<eps, x>=eps], [fn2, fn1], n)\n",
    "    return np.piecewise(x, [x<eps, x>=eps], [vfn2, vfn1], n)\n",
    "\n",
    "vfn = np.vectorize(fn)\n"
   ]
  },
  {
   "cell_type": "code",
   "execution_count": null,
   "id": "5802e8a0",
   "metadata": {},
   "outputs": [],
   "source": [
    "N = 20000\n",
    "print ('fn1:', timeit.timeit(lambda :fn1(0.5,10), number=N))\n",
    "print ('fnn:', timeit.timeit(lambda :fn(0.5,10), number=N))"
   ]
  },
  {
   "cell_type": "code",
   "execution_count": null,
   "id": "abe1d4fc",
   "metadata": {},
   "outputs": [],
   "source": [
    "x=np.linspace(0.01, 1., 1000000)\n",
    "y = fn1(x,5)\n",
    "sum(y)"
   ]
  },
  {
   "cell_type": "code",
   "execution_count": null,
   "id": "56ae5af2",
   "metadata": {},
   "outputs": [],
   "source": [
    "N = 100000\n",
    "for i in range(1,N):\n",
    "    y = vfn1(float(i)/N,5)"
   ]
  },
  {
   "cell_type": "code",
   "execution_count": null,
   "id": "4eb22596",
   "metadata": {},
   "outputs": [],
   "source": [
    "from matplotlib import pyplot as plt\n",
    "\n",
    "x=np.linspace(0., 1., 100)\n",
    "plt.plot(x, fn(x,5), label='fn')\n",
    "plt.plot(x, fn2(x,5), label='fn2')\n",
    "plt.legend()\n",
    "plt.show()"
   ]
  },
  {
   "cell_type": "code",
   "execution_count": null,
   "id": "76f721de",
   "metadata": {},
   "outputs": [],
   "source": []
  }
 ],
 "metadata": {
  "kernelspec": {
   "display_name": ".venv",
   "language": "python",
   "name": "python3"
  },
  "language_info": {
   "codemirror_mode": {
    "name": "ipython",
    "version": 3
   },
   "file_extension": ".py",
   "mimetype": "text/x-python",
   "name": "python",
   "nbconvert_exporter": "python",
   "pygments_lexer": "ipython3",
   "version": "3.13.3"
  }
 },
 "nbformat": 4,
 "nbformat_minor": 5
}
