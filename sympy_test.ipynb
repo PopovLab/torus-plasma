{
 "cells": [
  {
   "cell_type": "code",
   "execution_count": 3,
   "metadata": {},
   "outputs": [],
   "source": [
    "from sympy import *\n",
    "x = Symbol('x')\n",
    "y = Symbol('y')"
   ]
  },
  {
   "cell_type": "code",
   "execution_count": 4,
   "metadata": {},
   "outputs": [
    {
     "data": {
      "text/latex": [
       "$\\displaystyle x^{2} + 2 x y + y^{2}$"
      ],
      "text/plain": [
       "x**2 + 2*x*y + y**2"
      ]
     },
     "execution_count": 4,
     "metadata": {},
     "output_type": "execute_result"
    }
   ],
   "source": [
    "expr1 = x*y + x**2\n",
    "expr2 = y*x + y**2\n",
    "expr1 + expr2"
   ]
  },
  {
   "cell_type": "code",
   "execution_count": 5,
   "metadata": {},
   "outputs": [
    {
     "data": {
      "text/latex": [
       "$\\displaystyle \\left[\\begin{matrix}x^{2} + y^{2} & 2 x y\\\\2 x y & x^{2} + y^{2}\\end{matrix}\\right]$"
      ],
      "text/plain": [
       "Matrix([\n",
       "[x**2 + y**2,       2*x*y],\n",
       "[      2*x*y, x**2 + y**2]])"
      ]
     },
     "execution_count": 5,
     "metadata": {},
     "output_type": "execute_result"
    }
   ],
   "source": [
    "m1 = Matrix ([[x,y,],[y,x]])\n",
    "m1*m1"
   ]
  },
  {
   "cell_type": "code",
   "execution_count": 6,
   "metadata": {},
   "outputs": [
    {
     "data": {
      "text/latex": [
       "$\\displaystyle \\sigma$"
      ],
      "text/plain": [
       "sigma"
      ]
     },
     "execution_count": 6,
     "metadata": {},
     "output_type": "execute_result"
    }
   ],
   "source": [
    "sigma = Symbol('sigma')\n",
    "sigma"
   ]
  },
  {
   "cell_type": "code",
   "execution_count": 7,
   "metadata": {},
   "outputs": [
    {
     "data": {
      "text/latex": [
       "$\\displaystyle 2 + \\sqrt{2} i$"
      ],
      "text/plain": [
       "2 + sqrt(2)*I"
      ]
     },
     "execution_count": 7,
     "metadata": {},
     "output_type": "execute_result"
    }
   ],
   "source": [
    "x = 2 + sqrt(-2)\n",
    "x"
   ]
  },
  {
   "cell_type": "code",
   "execution_count": 8,
   "metadata": {},
   "outputs": [
    {
     "data": {
      "text/latex": [
       "$\\displaystyle \\left[\\begin{matrix}\\epsilon_{1} & i g & \\xi\\\\- i g & \\epsilon_{2} & i f\\\\\\xi & - i f & \\eta\\end{matrix}\\right]$"
      ],
      "text/plain": [
       "Matrix([\n",
       "[epsilon1,      I*g,  xi],\n",
       "[    -I*g, epsilon2, I*f],\n",
       "[      xi,     -I*f, eta]])"
      ]
     },
     "execution_count": 8,
     "metadata": {},
     "output_type": "execute_result"
    }
   ],
   "source": [
    "epsilon1, epsilon2, xi, eta = symbols('epsilon1 epsilon2 xi eta')\n",
    "g, f = symbols('g f')\n",
    "sigma0 = Matrix ([[epsilon1, I*g, xi], [-I*g, epsilon2, I*f], [xi, -I*f, eta]])\n",
    "sigma0"
   ]
  },
  {
   "cell_type": "code",
   "execution_count": 9,
   "metadata": {},
   "outputs": [
    {
     "data": {
      "text/latex": [
       "$\\displaystyle \\left[\\begin{matrix}\\cos{\\left(\\theta \\right)} & 0 & \\sin{\\left(\\theta \\right)}\\\\0 & 1 & 0\\\\- \\sin{\\left(\\theta \\right)} & 0 & \\cos{\\left(\\theta \\right)}\\end{matrix}\\right]$"
      ],
      "text/plain": [
       "Matrix([\n",
       "[ cos(theta), 0, sin(theta)],\n",
       "[          0, 1,          0],\n",
       "[-sin(theta), 0, cos(theta)]])"
      ]
     },
     "execution_count": 9,
     "metadata": {},
     "output_type": "execute_result"
    }
   ],
   "source": [
    "theta = Symbol('theta')\n",
    "Mz = Matrix([[cos(theta), sin(theta), 0],[-sin(theta), cos(theta),0],[0,0,1]])\n",
    "Mx = Matrix([[1,0,0], [0, cos(theta), sin(theta)],[0,-sin(theta), cos(theta)]])\n",
    "My = Matrix([[cos(theta), 0, sin(theta)], [0,1,0],[-sin(theta), 0, cos(theta)]])\n",
    "My"
   ]
  },
  {
   "cell_type": "code",
   "execution_count": 10,
   "metadata": {},
   "outputs": [
    {
     "data": {
      "text/latex": [
       "$\\displaystyle \\left[\\begin{matrix}\\epsilon_{1} \\cos^{2}{\\left(\\theta \\right)} + \\eta \\sin^{2}{\\left(\\theta \\right)} - \\xi \\sin{\\left(2 \\theta \\right)} & i \\left(f \\sin{\\left(\\theta \\right)} + g \\cos{\\left(\\theta \\right)}\\right) & \\frac{\\epsilon_{1} \\sin{\\left(2 \\theta \\right)}}{2} - \\frac{\\eta \\sin{\\left(2 \\theta \\right)}}{2} + \\xi \\cos{\\left(2 \\theta \\right)}\\\\- i \\left(f \\sin{\\left(\\theta \\right)} + g \\cos{\\left(\\theta \\right)}\\right) & \\epsilon_{2} & i \\left(f \\cos{\\left(\\theta \\right)} - g \\sin{\\left(\\theta \\right)}\\right)\\\\\\frac{\\epsilon_{1} \\sin{\\left(2 \\theta \\right)}}{2} - \\frac{\\eta \\sin{\\left(2 \\theta \\right)}}{2} + \\xi \\cos{\\left(2 \\theta \\right)} & i \\left(- f \\cos{\\left(\\theta \\right)} + g \\sin{\\left(\\theta \\right)}\\right) & \\epsilon_{1} \\sin^{2}{\\left(\\theta \\right)} + \\eta \\cos^{2}{\\left(\\theta \\right)} + \\xi \\sin{\\left(2 \\theta \\right)}\\end{matrix}\\right]$"
      ],
      "text/plain": [
       "Matrix([\n",
       "[  epsilon1*cos(theta)**2 + eta*sin(theta)**2 - xi*sin(2*theta),  I*(f*sin(theta) + g*cos(theta)), epsilon1*sin(2*theta)/2 - eta*sin(2*theta)/2 + xi*cos(2*theta)],\n",
       "[                              -I*(f*sin(theta) + g*cos(theta)),                         epsilon2,                                I*(f*cos(theta) - g*sin(theta))],\n",
       "[epsilon1*sin(2*theta)/2 - eta*sin(2*theta)/2 + xi*cos(2*theta), I*(-f*cos(theta) + g*sin(theta)),   epsilon1*sin(theta)**2 + eta*cos(theta)**2 + xi*sin(2*theta)]])"
      ]
     },
     "execution_count": 10,
     "metadata": {},
     "output_type": "execute_result"
    }
   ],
   "source": [
    "sigma = simplify(My.T*sigma0*My)\n",
    "sigma"
   ]
  },
  {
   "cell_type": "code",
   "execution_count": 17,
   "metadata": {},
   "outputs": [
    {
     "data": {
      "text/latex": [
       "$\\displaystyle \\epsilon_{1} \\epsilon_{2} \\eta - \\epsilon_{1} \\epsilon_{2} \\lambda - \\epsilon_{1} \\eta \\lambda - \\epsilon_{1} f^{2} + \\epsilon_{1} \\lambda^{2} - \\epsilon_{2} \\eta \\lambda + \\epsilon_{2} \\lambda^{2} - \\epsilon_{2} \\xi^{2} - \\eta g^{2} + \\eta \\lambda^{2} + f^{2} \\lambda - 2 f g \\xi + g^{2} \\lambda - \\lambda^{3} + \\lambda \\xi^{2}$"
      ],
      "text/plain": [
       "epsilon1*epsilon2*eta - epsilon1*epsilon2*lamda - epsilon1*eta*lamda - epsilon1*f**2 + epsilon1*lamda**2 - epsilon2*eta*lamda + epsilon2*lamda**2 - epsilon2*xi**2 - eta*g**2 + eta*lamda**2 + f**2*lamda - 2*f*g*xi + g**2*lamda - lamda**3 + lamda*xi**2"
      ]
     },
     "execution_count": 17,
     "metadata": {},
     "output_type": "execute_result"
    }
   ],
   "source": [
    "lamda = Symbol('lamda')\n",
    "poly = simplify(det(sigma - lamda*eye(3)))\n",
    "poly"
   ]
  },
  {
   "cell_type": "code",
   "execution_count": 19,
   "metadata": {},
   "outputs": [
    {
     "data": {
      "text/latex": [
       "$\\displaystyle \\epsilon_{1} \\epsilon_{2} \\eta - \\epsilon_{1} f^{2} - \\epsilon_{2} \\xi^{2} - \\eta g^{2} - 2 f g \\xi - \\lambda^{3} + \\lambda^{2} \\left(\\epsilon_{1} + \\epsilon_{2} + \\eta\\right) + \\lambda \\left(- \\epsilon_{1} \\epsilon_{2} - \\epsilon_{1} \\eta - \\epsilon_{2} \\eta + f^{2} + g^{2} + \\xi^{2}\\right)$"
      ],
      "text/plain": [
       "epsilon1*epsilon2*eta - epsilon1*f**2 - epsilon2*xi**2 - eta*g**2 - 2*f*g*xi - lamda**3 + lamda**2*(epsilon1 + epsilon2 + eta) + lamda*(-epsilon1*epsilon2 - epsilon1*eta - epsilon2*eta + f**2 + g**2 + xi**2)"
      ]
     },
     "execution_count": 19,
     "metadata": {},
     "output_type": "execute_result"
    }
   ],
   "source": [
    "collect(poly, lamda)"
   ]
  },
  {
   "cell_type": "code",
   "execution_count": 23,
   "metadata": {},
   "outputs": [
    {
     "data": {
      "text/latex": [
       "$\\displaystyle \\lambda^{3} + \\lambda^{2} \\left(- \\lambda_{1} - \\lambda_{2} - \\lambda_{3}\\right) + \\lambda \\left(\\lambda_{1} \\lambda_{2} + \\lambda_{1} \\lambda_{3} + \\lambda_{2} \\lambda_{3}\\right) - \\lambda_{1} \\lambda_{2} \\lambda_{3}$"
      ],
      "text/plain": [
       "lamda**3 + lamda**2*(-lamda1 - lamda2 - lamda3) + lamda*(lamda1*lamda2 + lamda1*lamda3 + lamda2*lamda3) - lamda1*lamda2*lamda3"
      ]
     },
     "execution_count": 23,
     "metadata": {},
     "output_type": "execute_result"
    }
   ],
   "source": [
    "lamda1, lamda2, lamda3 = symbols('lamda1 lamda2 lamda3')\n",
    "f = (lamda- lamda1)*(lamda- lamda2)*(lamda- lamda3)\n",
    "collect(expand(f), lamda)"
   ]
  },
  {
   "cell_type": "code",
   "execution_count": null,
   "metadata": {},
   "outputs": [
    {
     "data": {
      "text/latex": [
       "$\\displaystyle \\left|{A}\\right|$"
      ],
      "text/plain": [
       "Determinant(A)"
      ]
     },
     "execution_count": 11,
     "metadata": {},
     "output_type": "execute_result"
    }
   ],
   "source": [
    "A = MatrixSymbol('A', 3, 3)\n",
    "det(A)"
   ]
  },
  {
   "cell_type": "code",
   "execution_count": null,
   "metadata": {},
   "outputs": [],
   "source": []
  }
 ],
 "metadata": {
  "kernelspec": {
   "display_name": ".venv",
   "language": "python",
   "name": "python3"
  },
  "language_info": {
   "codemirror_mode": {
    "name": "ipython",
    "version": 3
   },
   "file_extension": ".py",
   "mimetype": "text/x-python",
   "name": "python",
   "nbconvert_exporter": "python",
   "pygments_lexer": "ipython3",
   "version": "3.11.2"
  },
  "orig_nbformat": 4
 },
 "nbformat": 4,
 "nbformat_minor": 2
}
